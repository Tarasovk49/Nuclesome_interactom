{
 "cells": [
  {
   "cell_type": "code",
   "execution_count": 41,
   "metadata": {
    "collapsed": true
   },
   "outputs": [],
   "source": [
    "import urllib.request\n",
    "from lxml import html\n",
    "import os"
   ]
  },
  {
   "cell_type": "code",
   "execution_count": 59,
   "metadata": {},
   "outputs": [],
   "source": [
    "req = urllib.request.Request(url='https://string-db.org/cgi/download.pl', headers={'User-Agent':'Mozilla/5.0 (X11; U; Linux i686) Gecko/20071127 Firefox/2.0.0.11'})\n",
    "with urllib.request.urlopen(req) as response:\n",
    "    file = response.read()\n",
    "tree = html.fromstring(file)\n",
    "\n",
    "cell_node = tree.xpath('//div[@class = \"cell\"]')[0]\n",
    "container_node = cell_node.xpath('.//div[@class = \"container\"]')[0]\n",
    "main_content_download_page_node = container_node.xpath('.//div[@class = \"main_content download_page\"]')[0]\n",
    "download_table_node = main_content_download_page_node.xpath('.//div[@class = \"download_table\"]')[0]\n",
    "download_table_data_row_node = download_table_node.xpath('.//div[@class = \"download_table_data_row\"]')[2]\n",
    "href_node = download_table_data_row_node.xpath('.//a[@href]')[0]\n",
    "\n",
    "latest_release = href_node.items()[0][1].split('download/')[-1].split('.txt')[0]\n",
    "latest_version = float(latest_release.split('full.v')[-1])"
   ]
  },
  {
   "cell_type": "code",
   "execution_count": 61,
   "metadata": {},
   "outputs": [],
   "source": [
    "previous_version = 10.0\n",
    "if latest_version > previous_version:\n",
    "    previous_version = latest_version\n",
    "#    print(previous_version)\n",
    "#    https://stringdb-static.org/download/protein.links.full.v11.0/9606.protein.links.full.v11.0.txt.gz\n",
    "    download_url = 'https://stringdb-static.org/download/' + latest_release + '/9606.' + latest_release + '.txt.gz'\n",
    "    opener = urllib.request.build_opener()\n",
    "    opener.addheaders = [('User-agent', 'Mozilla/5.0 (Windows NT 6.1) AppleWebKit/537.36 (KHTML, like Gecko) Chrome/35.0.1916.153 Safari/537.36 SE 2.X MetaSr 1.0')]\n",
    "    urllib.request.install_opener(opener)\n",
    "    urllib.request.urlretrieve(download_url, '9606.'+latest_release + '.txt.gz')\n",
    "    try:\n",
    "        os.system('gunzip 9606.'+latest_release+'.txt.gz')\n",
    "    except:\n",
    "        print('Cannot find gunzip file')\n"
   ]
  },
  {
   "cell_type": "code",
   "execution_count": null,
   "metadata": {
    "collapsed": true
   },
   "outputs": [],
   "source": []
  }
 ],
 "metadata": {
  "kernelspec": {
   "display_name": "Python 3",
   "language": "python",
   "name": "python3"
  },
  "language_info": {
   "codemirror_mode": {
    "name": "ipython",
    "version": 3
   },
   "file_extension": ".py",
   "mimetype": "text/x-python",
   "name": "python",
   "nbconvert_exporter": "python",
   "pygments_lexer": "ipython3",
   "version": "3.6.7"
  }
 },
 "nbformat": 4,
 "nbformat_minor": 2
}
