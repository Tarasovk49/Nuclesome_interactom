{
 "cells": [
  {
   "cell_type": "code",
   "execution_count": 114,
   "metadata": {},
   "outputs": [],
   "source": [
    "import pandas as pd\n",
    "pd.set_option('display.max_columns', 45)\n",
    "pd.set_option('max_colwidth', 100)\n",
    "pd.set_option('display.max_rows', 50)\n",
    "\n",
    "histone_genes_list_old = 'HIST1H2BB HIST1H2BC HIST1H2BE HIST1H2BF HIST1H2BG HIST1H2BI HIST1H2BD HIST1H2BH HIST1H2BJ HIST1H2BK HIST1H2BL \\\n",
    "           HIST1H2BM HIST1H2BN HIST1H2BO HIST2H2BE HIST2H2BF HIST3H2BB H2BFS H2BFM H2BFWT HIST1H2BA HIST1H2AG HIST1H2AI \\\n",
    "           HIST1H2AK HIST1H2AL HIST1H2AM HIST1H2AC HIST1H2AD HIST1H2AE HIST1H2AH HIST1H2AJ HIST2H2AB HIST2H2AC HIST3H2A \\\n",
    "           HIST1H2APS4 H2AFJ H2AFX H2AFZ H2AFV H2AFY H2AFY2 HIST1H2AA H2AFB1 H2AFB2 H2AFB3 HYPM HIST1H3A HIST1H3B HIST1H3C \\\n",
    "           HIST1H3D HIST1H3E HIST1H3F HIST1H3G HIST1H3H HIST1H3I HIST1H3J HIST2H3A HIST2H3C HIST2H3D HIST2H3PS2 H3F3A H3F3B \\\n",
    "           H3F3C CENPA HIST3H3 HIST1H4A HIST1H4B HIST1H4C HIST1H4D HIST1H4E HIST1H4F HIST1H4H HIST1H4I HIST1H4J HIST1H4K HIST1H4L HIST2H4A HIST2H4B HIST4H4'\n",
    "histone_genes_list_old = histone_genes_list_old.split()\n",
    "histone_genes_list_old = [x.lower() for x in histone_genes_list_old]"
   ]
  },
  {
   "cell_type": "code",
   "execution_count": 115,
   "metadata": {},
   "outputs": [],
   "source": [
    "hist_genes = pd.read_csv('histone_genes.csv', sep=',', low_memory=False)\n",
    "rawdata = pd.read_csv('rawdata.txt', sep='\\t', low_memory=False)"
   ]
  },
  {
   "cell_type": "code",
   "execution_count": 120,
   "metadata": {},
   "outputs": [],
   "source": [
    "# Retrieve only histone interactions\n",
    "histone_genes_table = pd.read_csv('histone_genes.csv', sep=',', low_memory=False)\n",
    "histone_genes_list = histone_genes_table.loc[:,'HGNC Symbol'].tolist()\n",
    "histone_genes_list = [x.lower() for x in histone_genes_list if str(x) != 'nan']\n",
    "\n",
    "rawdata['Alias(es) interactor B'] = rawdata['Alias(es) interactor B'].str.lower()\n",
    "rawdata['Alias(es) interactor A'] = rawdata['Alias(es) interactor A'].str.lower()\n",
    "\n",
    "boolean=rawdata['Alias(es) interactor A'].str.contains('|'.join(histone_genes_list))|rawdata['Alias(es) interactor B'].str.contains('|'.join(histone_genes_list))\n",
    "rawdata1 = rawdata[boolean]\n",
    "\n",
    "# Filter out expanded co-complexes\n",
    "data = rawdata1[rawdata1['Interaction type(s)'].str.contains('direct interaction|physical association')]"
   ]
  },
  {
   "cell_type": "code",
   "execution_count": 121,
   "metadata": {},
   "outputs": [],
   "source": [
    "# Delete rows whith no HGNC identifiers\n",
    "data=data[data['Alias(es) interactor B'].str.contains(r'.*uniprotkb:.{0,12}\\(gene name\\).*')&data['Alias(es) interactor A'].str.contains(r'.*uniprotkb:.{0,12}\\(gene name\\).*')]"
   ]
  },
  {
   "cell_type": "code",
   "execution_count": 122,
   "metadata": {},
   "outputs": [],
   "source": [
    "# Extract HGNC identifiers from 'Alias(es) interactor A' and 'Alias(es) interactor B' columns >> *|uniprotkb:HGNC(gene name)|*\n",
    "data['Alias(es) interactor A']=data['Alias(es) interactor A'].replace({r'.*(\\|uniprotkb:)(.{0,12})(\\(gene name\\)\\|).*' : r'\\2'}, regex=True)\n",
    "data['Alias(es) interactor B']=data['Alias(es) interactor B'].replace({r'.*(\\|uniprotkb:)(.{0,12})(\\(gene name\\)\\|).*' : r'\\2'}, regex=True)\n",
    "# Change names of columns\n",
    "data=data.rename({'Alias(es) interactor A' : 'protein1', 'Alias(es) interactor B' : 'protein2'}, axis=1)"
   ]
  },
  {
   "cell_type": "code",
   "execution_count": 123,
   "metadata": {},
   "outputs": [],
   "source": [
    "# Human genes only\n",
    "data=data.loc[(data['Taxid interactor A']=='taxid:9606(human)|taxid:9606(Homo sapiens)')&(data['Taxid interactor B']=='taxid:9606(human)|taxid:9606(Homo sapiens)')]"
   ]
  },
  {
   "cell_type": "code",
   "execution_count": 124,
   "metadata": {},
   "outputs": [],
   "source": [
    "# Protein interactions\n",
    "data=data.loc[(data['Type(s) interactor A']=='psi-mi:\"MI:0326\"(protein)')&(data['Type(s) interactor B']=='psi-mi:\"MI:0326\"(protein)')]"
   ]
  },
  {
   "cell_type": "code",
   "execution_count": 125,
   "metadata": {},
   "outputs": [],
   "source": [
    "# Select only needed columns\n",
    "data['Interaction detection method(s)']=data['Interaction detection method(s)'].replace({r'(.*(?<=\"\\()(.*?)(?=\\)).*)' : r'\\2'}, regex=True)\n",
    "data['Interaction type(s)']=data['Interaction type(s)'].replace({r'(.*(?<=\"\\()(.*?)(?=\\)).*)' : r'\\2'}, regex=True)\n",
    "data['Source database(s)']=data['Source database(s)'].replace({r'(.*(?<=\"\\()(.*?)(?=\\)).*)' : r'\\2'}, regex=True)\n",
    "data['Confidence value(s)']=data['Confidence value(s)'].replace({r'(.*\\:)(.*?)' : r'\\2'}, regex=True)\n",
    "data['Experimental role(s) interactor A']=data['Experimental role(s) interactor A'].replace({r'(.*(?<=\"\\()(.*?)(?=\\)).*)' : r'\\2'}, regex=True)\n",
    "data['Experimental role(s) interactor B']=data['Experimental role(s) interactor B'].replace({r'(.*(?<=\"\\()(.*?)(?=\\)).*)' : r'\\2'}, regex=True)\n",
    "data=data[['protein1',\n",
    "         'protein2',\n",
    "         'Interaction detection method(s)',\n",
    "         'Interaction type(s)',\n",
    "         'Source database(s)',\n",
    "         'Confidence value(s)',\n",
    "         'Experimental role(s) interactor A',\n",
    "         'Experimental role(s) interactor B']]"
   ]
  },
  {
   "cell_type": "code",
   "execution_count": 131,
   "metadata": {},
   "outputs": [],
   "source": [
    "data=pd.merge(data, hist_genes[['Histone type', 'HGNC Symbol', 'Canonicity']], how='left', left_on='protein1', right_on='HGNC Symbol', )\n",
    "data=data.drop(columns=['HGNC Symbol'])"
   ]
  },
  {
   "cell_type": "code",
   "execution_count": 132,
   "metadata": {},
   "outputs": [],
   "source": [
    "data_2=data.loc[~(data['protein2'].isin(hist_genes['HGNC Symbol']))]"
   ]
  },
  {
   "cell_type": "code",
   "execution_count": 133,
   "metadata": {},
   "outputs": [],
   "source": [
    "intact_interactors=data['protein2'].drop_duplicates()\n",
    "intact_interactors.to_csv('intact_interactors.csv', index=False, header=True)\n",
    "\n",
    "intact_interactors_2=data_2['protein2'].drop_duplicates()\n",
    "intact_interactors_2.to_csv('intact_interactors_2.csv', index=False, header=True)"
   ]
  },
  {
   "cell_type": "code",
   "execution_count": 134,
   "metadata": {},
   "outputs": [],
   "source": [
    "intact_interaction=data_2.drop_duplicates()\n",
    "intact_interaction=intact_interaction[['protein1', 'protein2', 'Interaction detection method(s)', 'Confidence value(s)','Source database(s)']]\n",
    "intact_interaction.to_csv('intact_interaction.csv', index=False, header=True)"
   ]
  },
  {
   "cell_type": "code",
   "execution_count": 37,
   "metadata": {},
   "outputs": [],
   "source": [
    "# Here processing ends (cell 31). Next 107th cell is analysis"
   ]
  }
 ],
 "metadata": {
  "kernelspec": {
   "display_name": "Python 3",
   "language": "python",
   "name": "python3"
  },
  "language_info": {
   "codemirror_mode": {
    "name": "ipython",
    "version": 3
   },
   "file_extension": ".py",
   "mimetype": "text/x-python",
   "name": "python",
   "nbconvert_exporter": "python",
   "pygments_lexer": "ipython3",
   "version": "3.6.7"
  }
 },
 "nbformat": 4,
 "nbformat_minor": 2
}
