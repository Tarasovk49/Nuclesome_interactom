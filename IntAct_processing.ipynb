{
 "cells": [
  {
   "cell_type": "code",
   "execution_count": 1,
   "metadata": {},
   "outputs": [],
   "source": [
    "import pandas as pd\n",
    "pd.set_option('display.max_columns', 45)\n",
    "pd.set_option('max_colwidth', 100)\n",
    "pd.set_option('display.max_rows', 50)"
   ]
  },
  {
   "cell_type": "code",
   "execution_count": 5,
   "metadata": {},
   "outputs": [],
   "source": [
    "hist_genes = pd.read_csv('histone_genes.csv',sep=',')\n",
    "data = pd.read_csv('rawdata.txt', sep='\\t')"
   ]
  },
  {
   "cell_type": "code",
   "execution_count": 6,
   "metadata": {},
   "outputs": [],
   "source": [
    "# extract from 'Alias(es) interactor A' and 'Alias(es) interactor B' between uniprotkb:GENE(gene name)\n",
    "data['Alias(es) interactor A']=data['Alias(es) interactor A'].replace({r'.*(\\|uniprotkb:)(.{0,12})(\\(gene name\\)\\|).*' : r'\\2'}, regex=True)\n",
    "data['Alias(es) interactor B']=data['Alias(es) interactor B'].replace({r'.*(\\|uniprotkb:)(.{0,12})(\\(gene name\\)\\|).*' : r'\\2'}, regex=True)\n",
    "data=data.rename({'Alias(es) interactor A' : 'protein1', 'Alias(es) interactor B' : 'protein2'}, axis=1)"
   ]
  },
  {
   "cell_type": "code",
   "execution_count": 26,
   "metadata": {},
   "outputs": [],
   "source": [
    "# Delete rows with not HGNC identifiers\n",
    "data=data.loc[~(data['protein1']=='psi-mi:a0a024ra76_human(display_long)|uniprotkb:hCG_1744368(orf name)')&\n",
    "           ~(data['protein1']=='psi-mi:386682(display_short)|psi-mi:EBI-10171679(display_long)')&\n",
    "           ~(data['protein1']=='psi-mi:brd4-nut(display_short)|psi-mi:EBI-8101903(display_long)')&\n",
    "           ~(data['protein1']=='psi-mi:ubiq_human(display_short)|psi-mi:EBI-4399559(display_long)')&\n",
    "           ~(data['protein2']=='psi-mi:ubiq_human(display_short)|psi-mi:EBI-4399559(display_long)')&\n",
    "           ~(data['protein2']=='psi-mi:386682(display_short)|psi-mi:EBI-10171679(display_long)')&\n",
    "           ~(data['protein2']=='psi-mi:sept10(display_short)|psi-mi:EBI-18171702(display_long)')&\n",
    "           ~(data['protein2']=='psi-mi:yb035_human(display_long)')&\n",
    "           ~(data['protein2']=='psi-mi:ubiq_human(display_short)|psi-mi:EBI-4399559(display_long)') ]"
   ]
  },
  {
   "cell_type": "code",
   "execution_count": 27,
   "metadata": {},
   "outputs": [],
   "source": [
    "# Human genes only\n",
    "data=data.loc[(data['Taxid interactor A']=='taxid:9606(human)|taxid:9606(Homo sapiens)')&(data['Taxid interactor B']=='taxid:9606(human)|taxid:9606(Homo sapiens)')]"
   ]
  },
  {
   "cell_type": "code",
   "execution_count": 28,
   "metadata": {},
   "outputs": [],
   "source": [
    "# Protein interactions\n",
    "data=data.loc[(data['Type(s) interactor A']=='psi-mi:\"MI:0326\"(protein)')&(data['Type(s) interactor B']=='psi-mi:\"MI:0326\"(protein)')]"
   ]
  },
  {
   "cell_type": "code",
   "execution_count": 29,
   "metadata": {},
   "outputs": [],
   "source": [
    "# Select only needed columns\n",
    "data['Interaction detection method(s)']=data['Interaction detection method(s)'].replace({r'(.*(?<=\"\\()(.*?)(?=\\)).*)' : r'\\2'}, regex=True)\n",
    "data['Interaction type(s)']=data['Interaction type(s)'].replace({r'(.*(?<=\"\\()(.*?)(?=\\)).*)' : r'\\2'}, regex=True)\n",
    "data['Source database(s)']=data['Source database(s)'].replace({r'(.*(?<=\"\\()(.*?)(?=\\)).*)' : r'\\2'}, regex=True)\n",
    "data['Confidence value(s)']=data['Confidence value(s)'].replace({r'(.*\\:)(.*?)' : r'\\2'}, regex=True)\n",
    "data['Experimental role(s) interactor A']=data['Experimental role(s) interactor A'].replace({r'(.*(?<=\"\\()(.*?)(?=\\)).*)' : r'\\2'}, regex=True)\n",
    "data['Experimental role(s) interactor B']=data['Experimental role(s) interactor B'].replace({r'(.*(?<=\"\\()(.*?)(?=\\)).*)' : r'\\2'}, regex=True)\n",
    "data=data[['protein1',\n",
    "         'protein2',\n",
    "         'Interaction detection method(s)',\n",
    "         'Interaction type(s)',\n",
    "         'Source database(s)',\n",
    "         'Confidence value(s)',\n",
    "         'Experimental role(s) interactor A',\n",
    "         'Experimental role(s) interactor B']]"
   ]
  },
  {
   "cell_type": "code",
   "execution_count": 32,
   "metadata": {},
   "outputs": [],
   "source": [
    "data=pd.merge(data, hist_genes[['Histone type', 'HGNC Symbol', 'Canonicity']], how='left', left_on='protein1', right_on='HGNC Symbol', )\n",
    "data=data.drop(columns=['HGNC Symbol'])"
   ]
  },
  {
   "cell_type": "code",
   "execution_count": 33,
   "metadata": {},
   "outputs": [],
   "source": [
    "data_2=data.loc[~(data['protein2'].isin(hist_genes['HGNC Symbol']))]"
   ]
  },
  {
   "cell_type": "code",
   "execution_count": 35,
   "metadata": {},
   "outputs": [],
   "source": [
    "intact_interactors=data['protein2'].loc[data['Histone type']!='H1'].drop_duplicates()\n",
    "intact_interactors.to_csv('intact_interactors.csv', index=False, header=True)\n",
    "\n",
    "intact_interactors_2=data_2['protein2'].loc[data_2['Histone type']!='H1'].drop_duplicates()\n",
    "intact_interactors_2.to_csv('intact_interactors_2.csv', index=False, header=True)"
   ]
  },
  {
   "cell_type": "code",
   "execution_count": 36,
   "metadata": {},
   "outputs": [],
   "source": [
    "intact_interaction=data_2.drop_duplicates()\n",
    "intact_interaction=intact_interaction[['protein1', 'protein2', 'Interaction detection method(s)', 'Confidence value(s)','Source database(s)']]\n",
    "intact_interaction.to_csv('intact_interaction.csv', index=False, header=True)"
   ]
  },
  {
   "cell_type": "code",
   "execution_count": 37,
   "metadata": {},
   "outputs": [],
   "source": [
    "# Here processing ends (cell 31). Next 107th cell is analysis"
   ]
  }
 ],
 "metadata": {
  "kernelspec": {
   "display_name": "Python 3",
   "language": "python",
   "name": "python3"
  },
  "language_info": {
   "codemirror_mode": {
    "name": "ipython",
    "version": 3
   },
   "file_extension": ".py",
   "mimetype": "text/x-python",
   "name": "python",
   "nbconvert_exporter": "python",
   "pygments_lexer": "ipython3",
   "version": "3.6.7"
  }
 },
 "nbformat": 4,
 "nbformat_minor": 2
}
