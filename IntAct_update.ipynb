{
 "cells": [
  {
   "cell_type": "code",
   "execution_count": 124,
   "metadata": {},
   "outputs": [],
   "source": [
    "import urllib.request\n",
    "from lxml import html\n",
    "import os\n",
    "import pandas as pd\n",
    "url_rawdata = 'ftp://ftp.ebi.ac.uk/pub/databases/intact/current/psimitab/intact.txt'\n",
    "\n",
    "histone_genes_list_old = 'HIST1H2BB HIST1H2BC HIST1H2BE HIST1H2BF HIST1H2BG HIST1H2BI HIST1H2BD HIST1H2BH HIST1H2BJ HIST1H2BK HIST1H2BL \\\n",
    "           HIST1H2BM HIST1H2BN HIST1H2BO HIST2H2BE HIST2H2BF HIST3H2BB H2BFS H2BFM H2BFWT HIST1H2BA HIST1H2AG HIST1H2AI \\\n",
    "           HIST1H2AK HIST1H2AL HIST1H2AM HIST1H2AC HIST1H2AD HIST1H2AE HIST1H2AH HIST1H2AJ HIST2H2AB HIST2H2AC HIST3H2A \\\n",
    "           HIST1H2APS4 H2AFJ H2AFX H2AFZ H2AFV H2AFY H2AFY2 HIST1H2AA H2AFB1 H2AFB2 H2AFB3 HYPM HIST1H3A HIST1H3B HIST1H3C \\\n",
    "           HIST1H3D HIST1H3E HIST1H3F HIST1H3G HIST1H3H HIST1H3I HIST1H3J HIST2H3A HIST2H3C HIST2H3D HIST2H3PS2 H3F3A H3F3B \\\n",
    "           H3F3C CENPA HIST3H3 HIST1H4A HIST1H4B HIST1H4C HIST1H4D HIST1H4E HIST1H4F HIST1H4H HIST1H4I HIST1H4J HIST1H4K HIST1H4L HIST2H4A HIST2H4B HIST4H4'\n",
    "histone_genes_list_old = histone_genes_list_old.split()\n",
    "histone_genes_list_old = [x.lower() for x in histone_genes_list_old]"
   ]
  },
  {
   "cell_type": "code",
   "execution_count": 221,
   "metadata": {},
   "outputs": [
    {
     "name": "stdout",
     "output_type": "stream",
     "text": [
      "2030-12-25 00:00:00 2019-08-29 09:35:00\n"
     ]
    }
   ],
   "source": [
    "from ftplib import FTP\n",
    "from dateutil import parser\n",
    "\n",
    "previous_release_date = parser.parse(\"12/25/2030\")\n",
    "ftp = FTP()\n",
    "ftp.connect('ftp.ebi.ac.uk')\n",
    "ftp.login()\n",
    "ftp.cwd('/pub/databases/intact/current/psimitab/')\n",
    "lines = []\n",
    "ftp.dir(\".\", lines.append)\n",
    "\n",
    "for line in lines:\n",
    "    tokens = line.split(maxsplit = 9)\n",
    "    name = tokens[8]\n",
    "    time_str = tokens[5] + \" \" + tokens[6] + \" \" + tokens[7]\n",
    "    time = parser.parse(time_str)\n",
    "    if name == 'intact.txt':\n",
    "        latest_release_date = time\n",
    "        \n",
    "if latest_release_date > previous_release_date:\n",
    "    previous_release_date = latest_release_date\n",
    "    url_list = 'ftp://ftp.ebi.ac.uk/pub/databases/intact/current/psimitab/intact.txt'\n",
    "    urllib.request.urlretrieve(url_rawdata, 'rawdata.txt')\n",
    "\n",
    "print(previous_release_date,latest_release_date)"
   ]
  },
  {
   "cell_type": "code",
   "execution_count": 116,
   "metadata": {},
   "outputs": [],
   "source": [
    "histone_genes_table = pd.read_csv('histone_genes.csv', sep=',', low_memory=False)\n",
    "histone_genes_list = histone_genes_table.loc[:,'HGNC Symbol'].tolist()\n",
    "histone_genes_list = [x.lower() for x in histone_genes_list if str(x) != 'nan']\n",
    "rawdata = pd.read_csv('rawdata.txt', sep='\\t', low_memory=False)"
   ]
  },
  {
   "cell_type": "code",
   "execution_count": 117,
   "metadata": {},
   "outputs": [],
   "source": [
    "rawdata['Alias(es) interactor B'] = rawdata['Alias(es) interactor B'].str.lower()\n",
    "rawdata['Alias(es) interactor A'] = rawdata['Alias(es) interactor A'].str.lower()\n"
   ]
  },
  {
   "cell_type": "code",
   "execution_count": 125,
   "metadata": {},
   "outputs": [],
   "source": [
    "boolean=rawdata['Alias(es) interactor A'].str.contains('|'.join(histone_genes_list_old))|rawdata['Alias(es) interactor B'].str.contains('|'.join(histone_genes_list_old))\n",
    "rawdata1 = rawdata[boolean]"
   ]
  },
  {
   "cell_type": "code",
   "execution_count": 119,
   "metadata": {},
   "outputs": [],
   "source": [
    "rawdata1 = rawdata1[rawdata1['Interaction type(s)'].str.contains('direct interaction|physical association')]"
   ]
  }
 ],
 "metadata": {
  "kernelspec": {
   "display_name": "Python 3",
   "language": "python",
   "name": "python3"
  },
  "language_info": {
   "codemirror_mode": {
    "name": "ipython",
    "version": 3
   },
   "file_extension": ".py",
   "mimetype": "text/x-python",
   "name": "python",
   "nbconvert_exporter": "python",
   "pygments_lexer": "ipython3",
   "version": "3.6.7"
  }
 },
 "nbformat": 4,
 "nbformat_minor": 2
}
