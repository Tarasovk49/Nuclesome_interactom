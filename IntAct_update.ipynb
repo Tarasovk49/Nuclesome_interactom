{
 "cells": [
  {
   "cell_type": "code",
   "execution_count": 124,
   "metadata": {},
   "outputs": [],
   "source": [
    "import urllib.request\n",
    "from lxml import html\n",
    "import os\n",
    "import pandas as pd\n",
    "url_rawdata = 'ftp://ftp.ebi.ac.uk/pub/databases/intact/current/psimitab/intact.txt'\n",
    "\n"
   ]
  },
  {
   "cell_type": "code",
   "execution_count": 221,
   "metadata": {},
   "outputs": [
    {
     "name": "stdout",
     "output_type": "stream",
     "text": [
      "2030-12-25 00:00:00 2019-08-29 09:35:00\n"
     ]
    }
   ],
   "source": [
    "from ftplib import FTP\n",
    "from dateutil import parser\n",
    "\n",
    "previous_release_date = parser.parse(\"12/25/2030\")\n",
    "ftp = FTP()\n",
    "ftp.connect('ftp.ebi.ac.uk')\n",
    "ftp.login()\n",
    "ftp.cwd('/pub/databases/intact/current/psimitab/')\n",
    "lines = []\n",
    "ftp.dir(\".\", lines.append)\n",
    "\n",
    "for line in lines:\n",
    "    tokens = line.split(maxsplit = 9)\n",
    "    name = tokens[8]\n",
    "    time_str = tokens[5] + \" \" + tokens[6] + \" \" + tokens[7]\n",
    "    time = parser.parse(time_str)\n",
    "    if name == 'intact.txt':\n",
    "        latest_release_date = time\n",
    "        \n",
    "if latest_release_date > previous_release_date:\n",
    "    previous_release_date = latest_release_date\n",
    "    url_list = 'ftp://ftp.ebi.ac.uk/pub/databases/intact/current/psimitab/intact.txt'\n",
    "    urllib.request.urlretrieve(url_rawdata, 'rawdata.txt')\n",
    "\n",
    "print(previous_release_date,latest_release_date)"
   ]
  }
 ],
 "metadata": {
  "kernelspec": {
   "display_name": "Python 3",
   "language": "python",
   "name": "python3"
  },
  "language_info": {
   "codemirror_mode": {
    "name": "ipython",
    "version": 3
   },
   "file_extension": ".py",
   "mimetype": "text/x-python",
   "name": "python",
   "nbconvert_exporter": "python",
   "pygments_lexer": "ipython3",
   "version": "3.6.7"
  }
 },
 "nbformat": 4,
 "nbformat_minor": 2
}
