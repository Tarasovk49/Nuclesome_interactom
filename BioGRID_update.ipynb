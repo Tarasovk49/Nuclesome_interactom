{
 "cells": [
  {
   "cell_type": "code",
   "execution_count": 24,
   "metadata": {
    "collapsed": true
   },
   "outputs": [],
   "source": [
    "import urllib.request\n",
    "from lxml import html\n",
    "import os\n",
    "from dateutil import parser\n",
    "url_list = 'https://downloads.thebiogrid.org/BioGRID/Release-Archive/'"
   ]
  },
  {
   "cell_type": "code",
   "execution_count": 11,
   "metadata": {},
   "outputs": [
    {
     "data": {
      "text/plain": [
       "'BIOGRID-3.5.176'"
      ]
     },
     "execution_count": 11,
     "metadata": {},
     "output_type": "execute_result"
    }
   ],
   "source": [
    "with urllib.request.urlopen(url_list) as response:\n",
    "     file = response.read()\n",
    "tree = html.fromstring(file)\n",
    "body_node = tree.xpath('//tbody')[0]\n",
    "version_list = body_node.xpath('.//a')\n",
    "\n",
    "#print(version_list[1].items()[0][1])\n",
    "# Gives us:\n",
    "# https://downloads.thebiogrid.org/BioGRID/Release-Archive/BIOGRID-3.5.174/\n",
    "# And we need:\n",
    "# https://downloads.thebiogrid.org/Download/BioGRID/Release-Archive/BIOGRID-3.5.174/BIOGRID-ALL-3.5.174.tab2.zip\n",
    "latest_version = version_list[1].items()[0][1].split('/')[-2]\n",
    "latest_version"
   ]
  },
  {
   "cell_type": "code",
   "execution_count": 35,
   "metadata": {},
   "outputs": [
    {
     "data": {
      "text/plain": [
       "[3, 5, 176]"
      ]
     },
     "execution_count": 35,
     "metadata": {},
     "output_type": "execute_result"
    }
   ],
   "source": [
    "# Check if latest version has changed\n",
    "latest_version_list = [int(s) for s in latest_version.split('-')[1].split('.') if s.isdigit()]\n",
    "latest_version_list"
   ]
  },
  {
   "cell_type": "code",
   "execution_count": 45,
   "metadata": {},
   "outputs": [
    {
     "name": "stdout",
     "output_type": "stream",
     "text": [
      "[3, 5, 176]\n"
     ]
    }
   ],
   "source": [
    "previous_version_list = [3, 5, 150]\n",
    "if latest_version_list[2] > previous_version_list[2]:\n",
    "    for (i, item) in enumerate(previous_version_list):\n",
    "        previous_version_list[i] = latest_version_list[i]\n",
    "    print(previous_version_list)\n",
    "    download_url = 'https://downloads.thebiogrid.org/Download/BioGRID/Release-Archive/'+latest_version+'/BIOGRID-ALL-'+latest_version.split('-')[1]+'.tab2.zip'\n",
    "    urllib.request.urlretrieve(download_url, latest_version+'.tab2.zip')\n",
    "    try:\n",
    "        os.system('unzip '+latest_version+'.tab2.zip')\n",
    "    except:\n",
    "        print('Cannot find gunzip file')"
   ]
  },
  {
   "cell_type": "code",
   "execution_count": null,
   "metadata": {
    "collapsed": true
   },
   "outputs": [],
   "source": []
  }
 ],
 "metadata": {
  "kernelspec": {
   "display_name": "Python 3",
   "language": "python",
   "name": "python3"
  },
  "language_info": {
   "codemirror_mode": {
    "name": "ipython",
    "version": 3
   },
   "file_extension": ".py",
   "mimetype": "text/x-python",
   "name": "python",
   "nbconvert_exporter": "python",
   "pygments_lexer": "ipython3",
   "version": "3.6.7"
  }
 },
 "nbformat": 4,
 "nbformat_minor": 2
}
