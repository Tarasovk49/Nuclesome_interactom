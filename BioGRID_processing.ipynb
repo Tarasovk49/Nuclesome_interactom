{
 "cells": [
  {
   "cell_type": "code",
   "execution_count": 3,
   "metadata": {},
   "outputs": [],
   "source": [
    "import pandas as pd\n",
    "version = '3.5.176'\n",
    "data_init = pd.read_csv('BIOGRID-ALL-' + version + '.tab2.txt', sep='\\t', low_memory=False)"
   ]
  },
  {
   "cell_type": "code",
   "execution_count": 14,
   "metadata": {},
   "outputs": [],
   "source": [
    "hist_genes = pd.read_csv('histone_genes.csv', sep=',')"
   ]
  },
  {
   "cell_type": "code",
   "execution_count": 15,
   "metadata": {},
   "outputs": [],
   "source": [
    "data_9606 = data_init.loc[(data_init['Organism Interactor A'] == 9606)&(data_init['Organism Interactor B'] == 9606)]\n",
    "data_9606_histones = data_9606.loc[data_9606['Official Symbol Interactor A'].isin(hist_genes['HGNC Symbol'])]"
   ]
  },
  {
   "cell_type": "code",
   "execution_count": 17,
   "metadata": {},
   "outputs": [],
   "source": [
    "temp = data_9606.loc[(data_9606['Official Symbol Interactor B'].isin(hist_genes['HGNC Symbol']))&(~(data_9606['Official Symbol Interactor A'].isin(hist_genes['HGNC Symbol'])))]\n",
    "temp = temp.rename({'Entrez Gene Interactor A':'Entrez Gene Interactor B', 'Entrez Gene Interactor B': 'Entrez Gene Interactor A', 'BioGRID ID Interactor A':'BioGRID ID Interactor B',\n",
    "            'BioGRID ID Interactor B':'BioGRID ID Interactor A', 'Systematic Name Interactor A':'Systematic Name Interactor B', 'Systematic Name Interactor B': 'Systematic Name Interactor A',\n",
    "            'Official Symbol Interactor A':'Official Symbol Interactor B', 'Official Symbol Interactor B':'Official Symbol Interactor A', 'Synonyms Interactor A':'Synonyms Interactor B',\n",
    "            'Synonyms Interactor B':'Synonyms Interactor A'}, axis='columns')\n",
    "temp = temp[['#BioGRID Interaction ID',\n",
    " 'Entrez Gene Interactor A',\n",
    " 'Entrez Gene Interactor B',\n",
    " 'BioGRID ID Interactor A',\n",
    " 'BioGRID ID Interactor B',\n",
    " 'Systematic Name Interactor A',\n",
    " 'Systematic Name Interactor B',\n",
    " 'Official Symbol Interactor A',\n",
    " 'Official Symbol Interactor B',\n",
    " 'Synonyms Interactor A',\n",
    " 'Synonyms Interactor B',\n",
    " 'Experimental System',\n",
    " 'Experimental System Type',\n",
    " 'Author',\n",
    " 'Pubmed ID',\n",
    " 'Organism Interactor A',\n",
    " 'Organism Interactor B',\n",
    " 'Throughput',\n",
    " 'Score',\n",
    " 'Modification',\n",
    " 'Phenotypes',\n",
    " 'Qualifications',\n",
    " 'Tags',\n",
    " 'Source Database']]\n",
    "data_9606_histones = data_9606_histones.append(temp)"
   ]
  },
  {
   "cell_type": "code",
   "execution_count": 20,
   "metadata": {},
   "outputs": [],
   "source": [
    "data_9606_histones = data_9606_histones.reset_index(drop = True)\n",
    "data = data_9606_histones"
   ]
  },
  {
   "cell_type": "code",
   "execution_count": 23,
   "metadata": {},
   "outputs": [],
   "source": [
    "data = pd.merge(data, hist_genes[['Histone type', 'HGNC Symbol', 'Canonicity']], how='left', left_on='Official Symbol Interactor A', right_on='HGNC Symbol')\n",
    "data = data.drop(columns=['HGNC Symbol'])"
   ]
  },
  {
   "cell_type": "code",
   "execution_count": 24,
   "metadata": {
    "collapsed": true
   },
   "outputs": [],
   "source": [
    "#rename columns as in hist_int_1 (df from StringDB)\n",
    "data = data.rename({'Official Symbol Interactor A':'protein1', 'Official Symbol Interactor B':'protein2'}, axis='columns')"
   ]
  },
  {
   "cell_type": "code",
   "execution_count": 28,
   "metadata": {},
   "outputs": [],
   "source": [
    "# data_2 set of interaction without histones in 'protein2'\n",
    "data_2 = data.loc[~(data['protein2'].isin(hist_genes['HGNC Symbol']))]"
   ]
  },
  {
   "cell_type": "code",
   "execution_count": 37,
   "metadata": {},
   "outputs": [],
   "source": [
    "biogrid_interactors = data['protein2'].drop_duplicates()\n",
    "biogrid_interactors.to_csv('biogrid_interactors.csv', header=True, index=False)\n",
    "\n",
    "biogrid_interactors_2 = data_2['protein2'].drop_duplicates()\n",
    "biogrid_interactors_2.to_csv('biogrid_interactors_2.csv', header=True, index=False)"
   ]
  },
  {
   "cell_type": "code",
   "execution_count": 38,
   "metadata": {
    "collapsed": true
   },
   "outputs": [],
   "source": [
    "#to Nucleosome interactome analysis WITH H1\n",
    "biogrid_interaction=data_2.drop_duplicates()\n",
    "biogrid_interaction=biogrid_interaction[['protein1', 'protein2', 'Experimental System', 'Throughput', 'Score','Source Database']]\n",
    "biogrid_interaction.to_csv('biogrid_interaction.csv', header=True, index=False)"
   ]
  },
  {
   "cell_type": "code",
   "execution_count": null,
   "metadata": {
    "collapsed": true
   },
   "outputs": [],
   "source": [
    "#### HERE stops the processing of Anna's script (21st cell). Next 44th cell and subsequent cells contain analysis"
   ]
  }
 ],
 "metadata": {
  "kernelspec": {
   "display_name": "Python 3",
   "language": "python",
   "name": "python3"
  },
  "language_info": {
   "codemirror_mode": {
    "name": "ipython",
    "version": 3
   },
   "file_extension": ".py",
   "mimetype": "text/x-python",
   "name": "python",
   "nbconvert_exporter": "python",
   "pygments_lexer": "ipython3",
   "version": "3.6.7"
  }
 },
 "nbformat": 4,
 "nbformat_minor": 2
}
